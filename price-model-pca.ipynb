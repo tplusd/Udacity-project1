{
 "cells": [
  {
   "cell_type": "markdown",
   "metadata": {},
   "source": [
    "**Business Understanding**\n",
    "\n",
    "From last notebook, you may find that many factors have contributed to airbnb prices. In the last part of this project, we are going to build a model to predict the price of aiabnb listings. This prediction will give both hosts and guests a reference for the prices. Besides, this will also influnece many operation and sales strategy of the AirBnB company.\n",
    "\n",
    "As usual, firstly we will need to import some necessary packages. To do the model fitting, feature selection and feature transformation, we mainly use the functions affilated to Scikit-Learn. "
   ]
  },
  {
   "cell_type": "code",
   "execution_count": 1,
   "metadata": {
    "_cell_guid": "b1076dfc-b9ad-4769-8c92-a6c4dae69d19",
    "_uuid": "8f2839f25d086af736a60e9eeb907d3b93b6e0e5"
   },
   "outputs": [
    {
     "name": "stdout",
     "output_type": "stream",
     "text": [
      "/kaggle/input/price-factors/custom.css\n",
      "/kaggle/input/price-factors/__results__.html\n",
      "/kaggle/input/price-factors/Listing_cleaned.csv\n",
      "/kaggle/input/price-factors/__output__.json\n",
      "/kaggle/input/price-factors/__notebook__.ipynb\n",
      "/kaggle/input/price-factors/__results___files/__results___20_1.png\n",
      "/kaggle/input/price-factors/__results___files/__results___25_1.png\n",
      "/kaggle/input/price-factors/__results___files/__results___22_1.png\n",
      "/kaggle/input/price-factors/__results___files/__results___16_1.png\n",
      "/kaggle/input/price-factors/__results___files/__results___21_1.png\n",
      "/kaggle/input/price-factors/__results___files/__results___23_1.png\n",
      "/kaggle/input/price-factors/__results___files/__results___18_1.png\n",
      "/kaggle/input/price-factors/__results___files/__results___20_2.png\n",
      "/kaggle/input/price-factors/__results___files/__results___13_0.png\n"
     ]
    }
   ],
   "source": [
    "import numpy as np \n",
    "import pandas as pd \n",
    "import matplotlib.pyplot as plt\n",
    "from sklearn.model_selection import train_test_split\n",
    "from sklearn.ensemble import RandomForestRegressor\n",
    "from sklearn.model_selection import GridSearchCV\n",
    "from sklearn.model_selection import RandomizedSearchCV\n",
    "from sklearn.metrics import r2_score, mean_squared_error\n",
    "from sklearn.linear_model import LinearRegression\n",
    "from sklearn.decomposition import PCA\n",
    "from sklearn.preprocessing import StandardScaler\n",
    "from sklearn.preprocessing import PowerTransformer\n",
    "from sklearn.pipeline import Pipeline\n",
    "\n",
    "import os\n",
    "for dirname, _, filenames in os.walk('/kaggle/input'):\n",
    "    for filename in filenames:\n",
    "        print(os.path.join(dirname, filename))\n"
   ]
  },
  {
   "cell_type": "code",
   "execution_count": 2,
   "metadata": {
    "_cell_guid": "79c7e3d0-c299-4dcb-8224-4455121ee9b0",
    "_uuid": "d629ff2d2480ee46fbb7e2d37f6b5fab8052498a"
   },
   "outputs": [
    {
     "name": "stdout",
     "output_type": "stream",
     "text": [
      "(3818, 65)\n",
      "host_location                        120\n",
      "host_response_time                     4\n",
      "host_acceptance_rate                   2\n",
      "host_is_superhost                      2\n",
      "host_neighbourhood                   102\n",
      "host_has_profile_pic                   2\n",
      "host_identity_verified                 2\n",
      "street                              1442\n",
      "neighbourhood                         81\n",
      "neighbourhood_cleansed                87\n",
      "neighbourhood_group_cleansed          17\n",
      "zipcode                               28\n",
      "is_location_exact                      2\n",
      "property_type                         16\n",
      "room_type                              3\n",
      "bed_type                               5\n",
      "amenities                           3284\n",
      "calendar_updated                      34\n",
      "instant_bookable                       2\n",
      "cancellation_policy                    3\n",
      "require_guest_profile_picture          2\n",
      "require_guest_phone_verification       2\n",
      "dtype: int64\n",
      "Index(['host_response_rate', 'host_listings_count', 'latitude', 'longitude',\n",
      "       'accommodates', 'bathrooms', 'bedrooms', 'beds', 'square_feet', 'price',\n",
      "       'weekly_price', 'monthly_price', 'security_deposit', 'cleaning_fee',\n",
      "       'guests_included', 'extra_people', 'minimum_nights', 'maximum_nights',\n",
      "       'availability_30', 'availability_60', 'availability_90',\n",
      "       'availability_365', 'number_of_reviews', 'review_scores_rating',\n",
      "       'review_scores_accuracy', 'review_scores_cleanliness',\n",
      "       'review_scores_checkin', 'review_scores_communication',\n",
      "       'review_scores_location', 'review_scores_value',\n",
      "       'calculated_host_listings_count', 'reviews_per_month',\n",
      "       'number_host_verifications', 'host_days', 'first_review_days',\n",
      "       'last_review_days', 'summary_len', 'space_len', 'description_len',\n",
      "       'neighborhood_overview_len', 'notes_len', 'transit_len',\n",
      "       'host_about_len'],\n",
      "      dtype='object')\n"
     ]
    },
    {
     "data": {
      "text/html": [
       "<div>\n",
       "<style scoped>\n",
       "    .dataframe tbody tr th:only-of-type {\n",
       "        vertical-align: middle;\n",
       "    }\n",
       "\n",
       "    .dataframe tbody tr th {\n",
       "        vertical-align: top;\n",
       "    }\n",
       "\n",
       "    .dataframe thead th {\n",
       "        text-align: right;\n",
       "    }\n",
       "</style>\n",
       "<table border=\"1\" class=\"dataframe\">\n",
       "  <thead>\n",
       "    <tr style=\"text-align: right;\">\n",
       "      <th></th>\n",
       "      <th>host_location</th>\n",
       "      <th>host_response_time</th>\n",
       "      <th>host_response_rate</th>\n",
       "      <th>host_acceptance_rate</th>\n",
       "      <th>host_is_superhost</th>\n",
       "      <th>host_neighbourhood</th>\n",
       "      <th>host_listings_count</th>\n",
       "      <th>host_has_profile_pic</th>\n",
       "      <th>host_identity_verified</th>\n",
       "      <th>street</th>\n",
       "      <th>...</th>\n",
       "      <th>host_days</th>\n",
       "      <th>first_review_days</th>\n",
       "      <th>last_review_days</th>\n",
       "      <th>summary_len</th>\n",
       "      <th>space_len</th>\n",
       "      <th>description_len</th>\n",
       "      <th>neighborhood_overview_len</th>\n",
       "      <th>notes_len</th>\n",
       "      <th>transit_len</th>\n",
       "      <th>host_about_len</th>\n",
       "    </tr>\n",
       "  </thead>\n",
       "  <tbody>\n",
       "    <tr>\n",
       "      <th>0</th>\n",
       "      <td>Seattle, Washington, United States</td>\n",
       "      <td>within a few hours</td>\n",
       "      <td>96.0</td>\n",
       "      <td>100%</td>\n",
       "      <td>f</td>\n",
       "      <td>Queen Anne</td>\n",
       "      <td>3.0</td>\n",
       "      <td>t</td>\n",
       "      <td>t</td>\n",
       "      <td>Gilman Dr W, Seattle, WA 98119, United States</td>\n",
       "      <td>...</td>\n",
       "      <td>1973.0</td>\n",
       "      <td>1891.0</td>\n",
       "      <td>368.0</td>\n",
       "      <td>1</td>\n",
       "      <td>180</td>\n",
       "      <td>180</td>\n",
       "      <td>1</td>\n",
       "      <td>1</td>\n",
       "      <td>1</td>\n",
       "      <td>73</td>\n",
       "    </tr>\n",
       "    <tr>\n",
       "      <th>1</th>\n",
       "      <td>Seattle, Washington, United States</td>\n",
       "      <td>within an hour</td>\n",
       "      <td>98.0</td>\n",
       "      <td>100%</td>\n",
       "      <td>t</td>\n",
       "      <td>Queen Anne</td>\n",
       "      <td>6.0</td>\n",
       "      <td>t</td>\n",
       "      <td>t</td>\n",
       "      <td>7th Avenue West, Seattle, WA 98119, United States</td>\n",
       "      <td>...</td>\n",
       "      <td>1413.0</td>\n",
       "      <td>1234.0</td>\n",
       "      <td>372.0</td>\n",
       "      <td>39</td>\n",
       "      <td>145</td>\n",
       "      <td>152</td>\n",
       "      <td>28</td>\n",
       "      <td>172</td>\n",
       "      <td>28</td>\n",
       "      <td>14</td>\n",
       "    </tr>\n",
       "    <tr>\n",
       "      <th>2</th>\n",
       "      <td>Seattle, Washington, United States</td>\n",
       "      <td>within a few hours</td>\n",
       "      <td>67.0</td>\n",
       "      <td>100%</td>\n",
       "      <td>f</td>\n",
       "      <td>Queen Anne</td>\n",
       "      <td>2.0</td>\n",
       "      <td>t</td>\n",
       "      <td>t</td>\n",
       "      <td>West Lee Street, Seattle, WA 98119, United States</td>\n",
       "      <td>...</td>\n",
       "      <td>937.0</td>\n",
       "      <td>889.0</td>\n",
       "      <td>489.0</td>\n",
       "      <td>39</td>\n",
       "      <td>188</td>\n",
       "      <td>179</td>\n",
       "      <td>113</td>\n",
       "      <td>29</td>\n",
       "      <td>36</td>\n",
       "      <td>66</td>\n",
       "    </tr>\n",
       "    <tr>\n",
       "      <th>3</th>\n",
       "      <td>Seattle, Washington, United States</td>\n",
       "      <td>NaN</td>\n",
       "      <td>NaN</td>\n",
       "      <td>NaN</td>\n",
       "      <td>f</td>\n",
       "      <td>Queen Anne</td>\n",
       "      <td>1.0</td>\n",
       "      <td>t</td>\n",
       "      <td>t</td>\n",
       "      <td>8th Avenue West, Seattle, WA 98119, United States</td>\n",
       "      <td>...</td>\n",
       "      <td>1155.0</td>\n",
       "      <td>NaN</td>\n",
       "      <td>NaN</td>\n",
       "      <td>42</td>\n",
       "      <td>1</td>\n",
       "      <td>42</td>\n",
       "      <td>1</td>\n",
       "      <td>1</td>\n",
       "      <td>1</td>\n",
       "      <td>1</td>\n",
       "    </tr>\n",
       "    <tr>\n",
       "      <th>4</th>\n",
       "      <td>Seattle, Washington, United States</td>\n",
       "      <td>within an hour</td>\n",
       "      <td>100.0</td>\n",
       "      <td>NaN</td>\n",
       "      <td>f</td>\n",
       "      <td>Queen Anne</td>\n",
       "      <td>2.0</td>\n",
       "      <td>t</td>\n",
       "      <td>t</td>\n",
       "      <td>14th Ave W, Seattle, WA 98119, United States</td>\n",
       "      <td>...</td>\n",
       "      <td>1863.0</td>\n",
       "      <td>1639.0</td>\n",
       "      <td>438.0</td>\n",
       "      <td>29</td>\n",
       "      <td>85</td>\n",
       "      <td>174</td>\n",
       "      <td>89</td>\n",
       "      <td>2</td>\n",
       "      <td>56</td>\n",
       "      <td>62</td>\n",
       "    </tr>\n",
       "  </tbody>\n",
       "</table>\n",
       "<p>5 rows × 65 columns</p>\n",
       "</div>"
      ],
      "text/plain": [
       "                        host_location  host_response_time  host_response_rate  \\\n",
       "0  Seattle, Washington, United States  within a few hours                96.0   \n",
       "1  Seattle, Washington, United States      within an hour                98.0   \n",
       "2  Seattle, Washington, United States  within a few hours                67.0   \n",
       "3  Seattle, Washington, United States                 NaN                 NaN   \n",
       "4  Seattle, Washington, United States      within an hour               100.0   \n",
       "\n",
       "  host_acceptance_rate host_is_superhost host_neighbourhood  \\\n",
       "0                 100%                 f         Queen Anne   \n",
       "1                 100%                 t         Queen Anne   \n",
       "2                 100%                 f         Queen Anne   \n",
       "3                  NaN                 f         Queen Anne   \n",
       "4                  NaN                 f         Queen Anne   \n",
       "\n",
       "   host_listings_count host_has_profile_pic host_identity_verified  \\\n",
       "0                  3.0                    t                      t   \n",
       "1                  6.0                    t                      t   \n",
       "2                  2.0                    t                      t   \n",
       "3                  1.0                    t                      t   \n",
       "4                  2.0                    t                      t   \n",
       "\n",
       "                                              street  ... host_days  \\\n",
       "0      Gilman Dr W, Seattle, WA 98119, United States  ...    1973.0   \n",
       "1  7th Avenue West, Seattle, WA 98119, United States  ...    1413.0   \n",
       "2  West Lee Street, Seattle, WA 98119, United States  ...     937.0   \n",
       "3  8th Avenue West, Seattle, WA 98119, United States  ...    1155.0   \n",
       "4       14th Ave W, Seattle, WA 98119, United States  ...    1863.0   \n",
       "\n",
       "  first_review_days last_review_days summary_len  space_len  description_len  \\\n",
       "0            1891.0            368.0           1        180              180   \n",
       "1            1234.0            372.0          39        145              152   \n",
       "2             889.0            489.0          39        188              179   \n",
       "3               NaN              NaN          42          1               42   \n",
       "4            1639.0            438.0          29         85              174   \n",
       "\n",
       "  neighborhood_overview_len notes_len transit_len  host_about_len  \n",
       "0                         1         1           1              73  \n",
       "1                        28       172          28              14  \n",
       "2                       113        29          36              66  \n",
       "3                         1         1           1               1  \n",
       "4                        89         2          56              62  \n",
       "\n",
       "[5 rows x 65 columns]"
      ]
     },
     "execution_count": 2,
     "metadata": {},
     "output_type": "execute_result"
    }
   ],
   "source": [
    "## read the cleaned data from last notebook\n",
    "df = pd.read_csv('/kaggle/input/price-factors/Listing_cleaned.csv',index_col=0)\n",
    "print(df.shape)\n",
    "print(df.select_dtypes(include=['object']).nunique())\n",
    "print(df.select_dtypes(include=['int','float']).columns)\n",
    "df.head()"
   ]
  },
  {
   "cell_type": "markdown",
   "metadata": {},
   "source": [
    "**Data understanding and preparation**\n",
    "\n",
    "Since we have explored this piece of data in the last notebook, here I will mainly focus on the data preparation for the model later.\n",
    "One important thing to is to delete those columns with too many invalid values. By doing this, we will give up part of information, but if we keep those features and try to fill in those vacancies by average or median numbers, we will introduce too much bias into our model. Here we set a threshold value and delete all the features that have more than 40% of invalid values. In the end, we deleted four features. And two of them are 'weekly_price' and 'monthly_price'. Those features have very high correlation with our response variable \"price\". And in the end of the day those two features actually are too strong indicators for price and we have to drop them anyway.  \n",
    "\n",
    "Another thing to do is to drop those categorical with too many unique categories. The reason is if we convert them into one-hot-vectors, they will produce many very sparse features. It will bring us difficulty to generalize our model. Thus, we drop the features 'street' and 'amenities'. They both have more than 1000 unique categories."
   ]
  },
  {
   "cell_type": "code",
   "execution_count": 3,
   "metadata": {},
   "outputs": [
    {
     "name": "stdout",
     "output_type": "stream",
     "text": [
      "['square_feet', 'weekly_price', 'monthly_price', 'security_deposit']\n",
      "Index(['street', 'amenities'], dtype='object')\n"
     ]
    }
   ],
   "source": [
    "## Find all the columns have more than 40% null values\n",
    "\n",
    "df.isnull().sum()/df.shape[0]\n",
    "too_many_NA = []\n",
    "for col in df.columns:\n",
    "    if df[col].isnull().sum()/df.shape[0] > 0.4 and col!='price':\n",
    "        too_many_NA.append(col)\n",
    "print(too_many_NA)\n",
    "\n",
    "## Find all the categorical features have more than 1000 unique categories\n",
    "Categorical_columns = df.select_dtypes(include=['object'])\n",
    "too_sparse_feature = Categorical_columns.columns[Categorical_columns.nunique() >1000]\n",
    "print(too_sparse_feature)"
   ]
  },
  {
   "cell_type": "markdown",
   "metadata": {},
   "source": [
    "We define a function \"Clean\" to do the final cleaning of our dataset and separate them into training set and test set. \n",
    "During the cleaning, we drop all the observations whose response column, in our case \"price\", has invalid value.\n",
    "Then we will drop those features with too many NaN and have too many unique categories. \n",
    "We also need to get rid of the outliers. The definition of outliers can be very different and complicated. But here we defined \n",
    "all the data points whose price is outside the 5%-95% percentile are outliers. In general, we drop all observations with too low or \n",
    "too high prices. \n",
    "\n",
    "Then we impute all the missing value by the median value of the corresponding column. For all the categorial columns, we\n",
    "convert them into one-hot-vectors including the category \"NaN\". And since our response column \"price\" is not a perfect symmetric normal distribution shape, we include an option to do a box-cox transformation on it (but we may not need it in our final result). Finally, we separate our dataset into a independent variables set and a response variable set. The response variable is our prediction target: \"price\"."
   ]
  },
  {
   "cell_type": "code",
   "execution_count": 4,
   "metadata": {},
   "outputs": [
    {
     "name": "stdout",
     "output_type": "stream",
     "text": [
      "(3440, 544)\n",
      "(3440,)\n"
     ]
    },
    {
     "data": {
      "text/plain": [
       "Text(0, 0.5, 'Frequency')"
      ]
     },
     "execution_count": 4,
     "metadata": {},
     "output_type": "execute_result"
    },
    {
     "data": {
      "image/png": "[encoded data removed]",
      "text/plain": [
       "<Figure size 432x288 with 1 Axes>"
      ]
     },
     "metadata": {
      "needs_background": "light"
     },
     "output_type": "display_data"
    }
   ],
   "source": [
    "## Do the final cleaning and separate the data into independent variables X, and response variable y.\n",
    "def Clean(input_df,response_col,too_many_NA,too_sparse_feature,dummy_na,power_transfer=False):\n",
    "    '''\n",
    "    INPUT:\n",
    "    input_df - a dataframe holding all the variables of interest\n",
    "    response_col - a string holding the target variable name which we want to predict\n",
    "    too_many_NA - a list contains all the names of features that have too many invalid values\n",
    "    too_sparse_feature - a list contains all the names of features that have too many unique categories\n",
    "    dummy_na - Bool holding whether you want to dummy NA vals of categorical columns or not\n",
    "    \n",
    "    OUTPUT:\n",
    "    \n",
    "    X,y - two dataframes, one is training set, one is test set.\n",
    "    '''\n",
    "    temp_input_df = input_df.drop(too_many_NA,axis=1)\n",
    "    temp_input_df = input_df.drop(too_sparse_feature,axis=1)\n",
    "    temp_input_df = temp_input_df.dropna(subset=[response_col],axis=0)\n",
    "    temp_input_df = temp_input_df[(temp_input_df[response_col]>=np.percentile(df[response_col],5)) &(temp_input_df[response_col]<=np.percentile(df[response_col],95))]\n",
    "    \n",
    "    num_col = temp_input_df.select_dtypes(include=['int','float'])\n",
    "    for col in num_col:\n",
    "        temp_input_df[col].fillna(temp_input_df[col].median(),inplace=True)\n",
    "    \n",
    "    cat_col = temp_input_df.select_dtypes(include=['object'])\n",
    "    for col in cat_col:\n",
    "        try:\n",
    "            temp_part = pd.get_dummies(temp_input_df[col],dummy_na=dummy_na,prefix_sep='_',prefix=col,drop_first=True)\n",
    "            temp_input_df = temp_input_df.drop(col,axis=1)\n",
    "            temp_input_df = pd.concat([temp_input_df,temp_part],axis=1)\n",
    "        except:\n",
    "            continue\n",
    "    X = temp_input_df.drop(response_col,axis=1)\n",
    "    y = temp_input_df[response_col]\n",
    "    \n",
    "    if power_transfer == True:\n",
    "        bc = PowerTransformer(method = 'box-cox')\n",
    "        y=y.values.reshape(-1,1)\n",
    "        bc.fit(y) \n",
    "        transformed_y = bc.transform(y)\n",
    "        return X,transformed_y, bc\n",
    "    \n",
    "    elif power_transfer == False:\n",
    "        return X,y\n",
    "    \n",
    "    \n",
    "\n",
    "## Test function Clean\n",
    "X,y = Clean(df,response_col='price',too_many_NA=too_many_NA,too_sparse_feature=too_sparse_feature,dummy_na=True)\n",
    "print(X.shape)\n",
    "print(y.shape)\n",
    "plt.hist(y,bins=30,facecolor='g')\n",
    "plt.xlabel('price')\n",
    "plt.ylabel('Frequency')"
   ]
  },
  {
   "cell_type": "code",
   "execution_count": 5,
   "metadata": {},
   "outputs": [],
   "source": [
    "## Finally prepare X and y for building the model\n",
    "X,y = Clean(df,response_col='price',too_many_NA=too_many_NA,too_sparse_feature=too_sparse_feature,dummy_na=True)"
   ]
  },
  {
   "cell_type": "markdown",
   "metadata": {},
   "source": [
    "Since now we have 544 features. Some of them might be strongly correlated with each other. And there is also need to do some dimension reduction and decrease number of features to be put in our model. Therefore we applied a very widely used method: Principal Component Analysis. \n",
    "\n",
    "The basic idea of principal component analysis is converting those correlated features into a set of orthogonal features. The first principal component will explain the most of the total variability. The importance of one certain principal component is measured by the percentage of total variance it explained. And those principal components are reflecting the actual factors that controll the internal pattern of the whole dataset.\n",
    "\n",
    "Here we ploted the percentage of variance explained by each principal component to illustrate the meaning of PCA and why it can be used to do feature selection and reduction. \n",
    "One thing to note is in practical machine learning pipline implementation, you can only fit the PCA to your training model. Otherwise it will lead to a \"data leak\" since you already revealed some information about the test set if you fit the PCA transformer on your whole dataset. "
   ]
  },
  {
   "cell_type": "code",
   "execution_count": 6,
   "metadata": {},
   "outputs": [
    {
     "data": {
      "image/png": "[encoded data removed]",
      "text/plain": [
       "<Figure size 1080x720 with 2 Axes>"
      ]
     },
     "metadata": {
      "needs_background": "light"
     },
     "output_type": "display_data"
    }
   ],
   "source": [
    "## Illustrate how PCA works and how these principal components explain the total variance\n",
    "scaler = StandardScaler()\n",
    "scaler.fit(X)\n",
    "standardized_X = scaler.transform(X)\n",
    "pca = PCA(n_components=200)\n",
    "pca.fit(standardized_X)   \n",
    "X_transformed = pca.transform(standardized_X)\n",
    "Sum_explained_variance_ratio=[]\n",
    "temp=0\n",
    "for item in pca.explained_variance_ratio_:\n",
    "    temp += item\n",
    "    Sum_explained_variance_ratio.append(temp)\n",
    "plt.figure(figsize=(15,10))\n",
    "plt.subplot(2,1,1)\n",
    "plt.plot(pca.explained_variance_ratio_)\n",
    "plt.ylabel('Percentage of explained variance')\n",
    "plt.subplot(2,1,2)\n",
    "plt.plot(Sum_explained_variance_ratio)\n",
    "plt.ylabel('Cumulative percentage of explained variance')\n",
    "plt.xlabel('Number of features')\n",
    "plt.show()"
   ]
  },
  {
   "cell_type": "markdown",
   "metadata": {},
   "source": [
    "**Modeling and evaluation**\n",
    "\n",
    "Here we begin to build the models. First of all, we built a pipeline for a simple least-square\n",
    "linear regression model as a baseline. In the pipline, we first standardize the training set. And then we \n",
    "apply prinicpal component analysis on the training set to achieve dimension reduction. Finally, we applied a\n",
    "linear regression model using Scikit-learn. \n",
    "\n",
    "We also build a function named \"display_results\" to show the error metrics, which is\n",
    "mean square error here, and the plot of the predicted price versus the actual price."
   ]
  },
  {
   "cell_type": "code",
   "execution_count": 7,
   "metadata": {},
   "outputs": [],
   "source": [
    "## Define a function to build a linear regression pipeline with rescaling and PCA\n",
    "def build_linear_model(n_features):\n",
    "    '''\n",
    "    INPUT:\n",
    "    n_features: number of principal components to be kept\n",
    "    \n",
    "    OUTPUT:\n",
    "    pipeline: a machine learning pipline for linear regression model\n",
    "    '''\n",
    "    \n",
    "    pipeline = Pipeline([\n",
    "        ('scale',StandardScaler()),\n",
    "        ('pca',PCA(n_components=n_features)),\n",
    "        ('linear_model',LinearRegression())\n",
    "        \n",
    "    ])\n",
    "    return pipeline"
   ]
  },
  {
   "cell_type": "code",
   "execution_count": 8,
   "metadata": {},
   "outputs": [],
   "source": [
    "## Define a function to display the model prediction results in training and test set\n",
    "def display_results(y_test,y_pred_test,y_train,y_pred_train):\n",
    "    \n",
    "    '''\n",
    "    INPUT:\n",
    "    y_test:actual y values of test set\n",
    "    y_pred_test: predicted y values of test set\n",
    "    y_train: actual y values of training set\n",
    "    y_pred_train: predicted y values of training set\n",
    "    \n",
    "    OUTPUT:\n",
    "    None, print the r2 score and mean squared error on training and test set.\n",
    "    '''\n",
    "    \n",
    "    r2_scores_test=(r2_score(y_test,y_pred_test))\n",
    "    r2_scores_train=(r2_score(y_train,y_pred_train))\n",
    "    mean_squared_error_test=(mean_squared_error(y_test,y_pred_test))\n",
    "    mean_squared_error_train=(mean_squared_error(y_train,y_pred_train))\n",
    "\n",
    "    print(\"R2 in test set is {},R2 in training set is {}, mean squared error in test set is {}, mean squared error in training set is {}\".format(r2_scores_test,r2_scores_train,mean_squared_error_test,mean_squared_error_train))\n",
    "    plt.scatter(y_test,y_pred_test)\n",
    "    plt.title(\"Predicted y VS Actual y\")\n",
    "    plt.xlabel(\"Actual y in test set\")\n",
    "    plt.ylabel(\"Predicted y in test set\")\n",
    "    plt.show()\n"
   ]
  },
  {
   "cell_type": "code",
   "execution_count": 9,
   "metadata": {},
   "outputs": [],
   "source": [
    "## The main function of the linear regression model\n",
    "def main_linear_model(n_features,test_size=0.3,random_state=69):\n",
    "    '''\n",
    "    INPUT:\n",
    "    n_features: number of principal components to be kept\n",
    "    test_size: the ratio of test set in the total data set\n",
    "    random_state: the random state in train_test_split\n",
    "    \n",
    "    OUTPUT:\n",
    "    None, conducted the model fitting, prediction, and display the result.\n",
    "    '''\n",
    "    \n",
    "    \n",
    "    ## Split the dataset into training and test\n",
    "    X_train,X_test,y_train,y_test=train_test_split(X,y,test_size=test_size,random_state=random_state)\n",
    "    linear_pipline = build_linear_model(n_features=n_features)\n",
    "    linear_pipline.fit(X_train,y_train)\n",
    "    y_pred_test = linear_pipline.predict(X_test)\n",
    "    y_pred_train = linear_pipline.predict(X_train)\n",
    "    display_results(y_test,y_pred_test,y_train,y_pred_train)"
   ]
  },
  {
   "cell_type": "markdown",
   "metadata": {},
   "source": [
    "So it doesn't look too bad. The R2 in training is 0.535 and R2 in test is 0.506. The mean squared error in training is 1351.14 and that in test is 1433.75. So both evaluation \n",
    "metrics are closed to each other. And it is natural model will have a slightly better permance on the training set. \n",
    "\n",
    "And from the visualiztion, we can see that all the prediction values are in a reasonable range. No crazy predictions are observed. So this means this linear model on this dataset is promising. But as a data scientist, we always want to explore any possible optimizations. "
   ]
  },
  {
   "cell_type": "code",
   "execution_count": 10,
   "metadata": {},
   "outputs": [
    {
     "name": "stdout",
     "output_type": "stream",
     "text": [
      "R2 in test set is 0.5026410266665762,R2 in training set is 0.5395534115131102, mean squared error in test set is 1442.4317882838873, mean squared error in training set is 1337.740180911635\n"
     ]
    },
    {
     "data": {
      "image/png": "[encoded data removed]",
      "text/plain": [
       "<Figure size 432x288 with 1 Axes>"
      ]
     },
     "metadata": {
      "needs_background": "light"
     },
     "output_type": "display_data"
    }
   ],
   "source": [
    "main_linear_model(25,test_size=0.2,random_state=70)"
   ]
  },
  {
   "cell_type": "markdown",
   "metadata": {},
   "source": [
    "Now we also build another pipline to apply a random forest model and meanwhile implement a random search for \n",
    "optimal jyper-parameters. Random forest is said to be a robust model and is very good at dealing with overfitting. \n",
    "However, form our experience below, you may find it still depends on the data and its parameters. \n",
    "\n",
    "Here we tune three parameters, the number of features to consider when looking for the best split, the maximum depth of each tree, and the number of trees.\n",
    "A rough random search will be conducted firstly in a wide range of different combinations of parameters. During the search process, we applied a 5-fold cross validation."
   ]
  },
  {
   "cell_type": "code",
   "execution_count": 11,
   "metadata": {},
   "outputs": [],
   "source": [
    "## Define a function to build a random forest pipeline with rescaling and PCA, and random search for optimal parameters\n",
    "def build_rf_model_randomsearch(n_features,max_features,max_depth):\n",
    "    \n",
    "    '''\n",
    "    INPUT:\n",
    "    n_features: number of principal components to be kept\n",
    "    max_features: the upper limit of the range you want to search the 'max_features'\n",
    "    max_depth: the upper limit of the range you want to search the 'max_depth'\n",
    "    OUTPUT:\n",
    "    cv: a random search object \n",
    "    '''\n",
    "    \n",
    "    pipeline = Pipeline([\n",
    "        ('scale',StandardScaler()),\n",
    "        ('pca',PCA(n_components=n_features)),\n",
    "        ('clf',RandomForestRegressor())\n",
    "    ])\n",
    "    \n",
    "    parameters = {\n",
    "        'clf__max_features':[i for i in range(1,max_features+1)],\n",
    "        'clf__max_depth':[j for j in range(1,max_depth+1)],\n",
    "        'clf__n_estimators':[k for k in range(50,1050,50)]\n",
    "    }\n",
    "    \n",
    "    cv = RandomizedSearchCV(pipeline,n_iter=200,param_distributions=parameters,scoring='neg_mean_squared_error',cv=5,verbose=3,n_jobs=-1)\n",
    "    return cv"
   ]
  },
  {
   "cell_type": "markdown",
   "metadata": {},
   "source": [
    "After a random search, the random froest have a slightly better result on the test set. Compared to linear regression, the R2 score is increased to 0.539. And the \\\n",
    "mean squared error is decreased to 1338.38. However, you can see a clear overfitting happening in this model. The perfomance on the training set is much better than that on the test set. "
   ]
  },
  {
   "cell_type": "code",
   "execution_count": 12,
   "metadata": {},
   "outputs": [],
   "source": [
    "## The main function of the random forest model with random search\n",
    "def main_rf_random_search(n_features,max_features,max_depth,test_size=0.3,random_state=69):\n",
    "    '''\n",
    "    INPUT:\n",
    "    n_features: number of principal components to be kept\n",
    "    max_features: the upper limit of the range you want to search the 'max_features'\n",
    "    max_depth: the upper limit of the range you want to search the 'max_depth'\n",
    "    test_size: the ratio of test set in the total data set\n",
    "    random_state: the random state in train_test_split\n",
    "    \n",
    "    OUTPUT:\n",
    "    None, conducted the random forest model fitting, random search on model parameters, prediction, and display the result.\n",
    "    '''\n",
    "    X_train,X_test,y_train,y_test=train_test_split(X,y,test_size=test_size,random_state=random_state)\n",
    "    pipeline = build_rf_model_randomsearch(n_features=n_features,max_features=max_features,max_depth=max_depth)\n",
    "    pipeline.fit(X_train,y_train)\n",
    "    y_pred_test = pipeline.predict(X_test)\n",
    "    y_pred_train = pipeline.predict(X_train)\n",
    "    display_results(y_test,y_pred_test,y_train,y_pred_train)\n",
    "    print(\"The best model parameters are:\",pipeline.best_estimator_.get_params())\n",
    "    print(\"The mean squared error of the best model is:\",pipeline.best_score_)"
   ]
  },
  {
   "cell_type": "code",
   "execution_count": 13,
   "metadata": {},
   "outputs": [
    {
     "name": "stdout",
     "output_type": "stream",
     "text": [
      "Fitting 5 folds for each of 200 candidates, totalling 1000 fits\n"
     ]
    },
    {
     "name": "stderr",
     "output_type": "stream",
     "text": [
      "[Parallel(n_jobs=-1)]: Using backend LokyBackend with 4 concurrent workers.\n",
      "[Parallel(n_jobs=-1)]: Done  24 tasks      | elapsed:  2.5min\n",
      "/opt/conda/lib/python3.6/site-packages/joblib/externals/loky/process_executor.py:706: UserWarning: A worker stopped while some jobs were given to the executor. This can be caused by a too short worker timeout or by a memory leak.\n",
      "  \"timeout or by a memory leak.\", UserWarning\n",
      "[Parallel(n_jobs=-1)]: Done 120 tasks      | elapsed:  8.7min\n",
      "[Parallel(n_jobs=-1)]: Done 280 tasks      | elapsed: 16.5min\n",
      "[Parallel(n_jobs=-1)]: Done 504 tasks      | elapsed: 28.0min\n",
      "[Parallel(n_jobs=-1)]: Done 792 tasks      | elapsed: 44.4min\n",
      "[Parallel(n_jobs=-1)]: Done 1000 out of 1000 | elapsed: 54.0min finished\n"
     ]
    },
    {
     "name": "stdout",
     "output_type": "stream",
     "text": [
      "R2 in test set is 0.5321526349318826,R2 in training set is 0.894599310358444, mean squared error in test set is 1356.8427385881416, mean squared error in training set is 306.2217011807025\n"
     ]
    },
    {
     "data": {
      "image/png": "[encoded data removed]",
      "text/plain": [
       "<Figure size 432x288 with 1 Axes>"
      ]
     },
     "metadata": {
      "needs_background": "light"
     },
     "output_type": "display_data"
    },
    {
     "name": "stdout",
     "output_type": "stream",
     "text": [
      "The best model parameters are: {'memory': None, 'steps': [('scale', StandardScaler(copy=True, with_mean=True, with_std=True)), ('pca', PCA(copy=True, iterated_power='auto', n_components=25, random_state=None,\n",
      "    svd_solver='auto', tol=0.0, whiten=False)), ('clf', RandomForestRegressor(bootstrap=True, criterion='mse', max_depth=25,\n",
      "                      max_features=8, max_leaf_nodes=None,\n",
      "                      min_impurity_decrease=0.0, min_impurity_split=None,\n",
      "                      min_samples_leaf=1, min_samples_split=2,\n",
      "                      min_weight_fraction_leaf=0.0, n_estimators=350,\n",
      "                      n_jobs=None, oob_score=False, random_state=None,\n",
      "                      verbose=0, warm_start=False))], 'verbose': False, 'scale': StandardScaler(copy=True, with_mean=True, with_std=True), 'pca': PCA(copy=True, iterated_power='auto', n_components=25, random_state=None,\n",
      "    svd_solver='auto', tol=0.0, whiten=False), 'clf': RandomForestRegressor(bootstrap=True, criterion='mse', max_depth=25,\n",
      "                      max_features=8, max_leaf_nodes=None,\n",
      "                      min_impurity_decrease=0.0, min_impurity_split=None,\n",
      "                      min_samples_leaf=1, min_samples_split=2,\n",
      "                      min_weight_fraction_leaf=0.0, n_estimators=350,\n",
      "                      n_jobs=None, oob_score=False, random_state=None,\n",
      "                      verbose=0, warm_start=False), 'scale__copy': True, 'scale__with_mean': True, 'scale__with_std': True, 'pca__copy': True, 'pca__iterated_power': 'auto', 'pca__n_components': 25, 'pca__random_state': None, 'pca__svd_solver': 'auto', 'pca__tol': 0.0, 'pca__whiten': False, 'clf__bootstrap': True, 'clf__criterion': 'mse', 'clf__max_depth': 25, 'clf__max_features': 8, 'clf__max_leaf_nodes': None, 'clf__min_impurity_decrease': 0.0, 'clf__min_impurity_split': None, 'clf__min_samples_leaf': 1, 'clf__min_samples_split': 2, 'clf__min_weight_fraction_leaf': 0.0, 'clf__n_estimators': 350, 'clf__n_jobs': None, 'clf__oob_score': False, 'clf__random_state': None, 'clf__verbose': 0, 'clf__warm_start': False}\n",
      "The mean squared error of the best model is: -1367.1774488621213\n"
     ]
    }
   ],
   "source": [
    "main_rf_random_search(n_features=25,max_features=25,max_depth=25,test_size=0.2,random_state=70)"
   ]
  },
  {
   "cell_type": "markdown",
   "metadata": {},
   "source": [
    "After the random search, we will do a more precise grid search in a narrower range. "
   ]
  },
  {
   "cell_type": "code",
   "execution_count": 14,
   "metadata": {},
   "outputs": [],
   "source": [
    "## Define a function to build a random forest pipeline with rescaling and PCA, and precise grid search for optimal parameters\n",
    "def build_rf_model_gridsearch(n_features,max_features_up,max_features_low,max_depth_up,max_depth_low,n_estimators_up,n_estimators_low):\n",
    "    '''\n",
    "    INPUT:\n",
    "    n_features: number of principal components to be kept\n",
    "    max_features_up: the upper limit of the range you want to search the 'max_features'\n",
    "    max_features_lower: the lower limit of the range you want to search the 'max_features'\n",
    "    max_depth_up: the upper limit of the range you want to search the 'max_depth'\n",
    "    max_depth_lower: the lower limit of the range you want to search the 'max_depth'\n",
    "    n_estimators_up: the upper limit of the range you want to search the \"n_estimators\"\n",
    "    n_estimators_lower: the lower limit of the range you want to search the \"n_estimators\"\n",
    "    OUTPUT:\n",
    "    cv: a grid search object \n",
    "    '''\n",
    "    \n",
    "    pipeline = Pipeline([\n",
    "        ('scale',StandardScaler()),\n",
    "        ('pca',PCA(n_components=n_features)),\n",
    "        ('clf',RandomForestRegressor())\n",
    "    ])\n",
    "    \n",
    "    parameters = {\n",
    "        'clf__max_features':[i for i in range(max_features_low,max_features_up)],\n",
    "        'clf__max_depth':[j for j in range(max_depth_low,max_depth_up)],\n",
    "        'clf__n_estimators':[z for z in range(n_estimators_low,n_estimators_up,10)]\n",
    "    }\n",
    "    \n",
    "    cv = GridSearchCV(pipeline,param_grid=parameters,scoring='neg_mean_squared_error',cv=5,verbose=3,n_jobs=-1)\n",
    "    return cv"
   ]
  },
  {
   "cell_type": "code",
   "execution_count": 15,
   "metadata": {},
   "outputs": [],
   "source": [
    "## The main function of the random forest model with grid search\n",
    "def main_rf_grid_search(n_features,max_features_up,max_features_low,max_depth_up,max_depth_low,n_estimators_up,n_estimators_low,test_size=0.3,random_state=69):\n",
    "    '''\n",
    "    INPUT:\n",
    "    n_features: number of principal components to be kept\n",
    "    max_features_up: the upper limit of the range you want to search the 'max_features'\n",
    "    max_features_lower: the lower limit of the range you want to search the 'max_features'\n",
    "    max_depth_up: the upper limit of the range you want to search the 'max_depth'\n",
    "    max_depth_lower: the lower limit of the range you want to search the 'max_depth'\n",
    "    n_estimators_up: the upper limit of the range you want to search the \"n_estimators\"\n",
    "    n_estimators_lower: the lower limit of the range you want to search the \"n_estimators\"\n",
    "    test_size: the ratio of test set in the total data set\n",
    "    random_state: the random state in train_test_split\n",
    "    \n",
    "    OUTPUT:\n",
    "    None, conducted the random forest model fitting, grid search on model parameters, prediction, and display the result.\n",
    "    '''\n",
    "    \n",
    "    X_train,X_test,y_train,y_test=train_test_split(X,y,test_size=test_size,random_state=random_state)\n",
    "    pipeline = build_rf_model_gridsearch(n_features=n_features,max_features_up=max_features_up,max_features_low=max_features_low,\n",
    "                                         max_depth_up=max_depth_up,max_depth_low=max_depth_low,\n",
    "                                         n_estimators_up=n_estimators_up,n_estimators_low=n_estimators_low)\n",
    "    pipeline.fit(X_train,y_train)\n",
    "    y_pred_test = pipeline.predict(X_test)\n",
    "    y_pred_train = pipeline.predict(X_train)\n",
    "    display_results(y_test,y_pred_test,y_train,y_pred_train)\n",
    "    print(\"The best model parameters are:\",pipeline.best_estimator_.get_params())\n",
    "    print(\"The mean squared error of the best model is:\",pipeline.best_score_)"
   ]
  },
  {
   "cell_type": "markdown",
   "metadata": {},
   "source": [
    "The grid search has only very tiny improvement on the model performance. "
   ]
  },
  {
   "cell_type": "code",
   "execution_count": 16,
   "metadata": {},
   "outputs": [
    {
     "name": "stdout",
     "output_type": "stream",
     "text": [
      "Fitting 5 folds for each of 147 candidates, totalling 735 fits\n"
     ]
    },
    {
     "name": "stderr",
     "output_type": "stream",
     "text": [
      "[Parallel(n_jobs=-1)]: Using backend LokyBackend with 4 concurrent workers.\n",
      "[Parallel(n_jobs=-1)]: Done  24 tasks      | elapsed:  1.2min\n",
      "[Parallel(n_jobs=-1)]: Done 120 tasks      | elapsed:  6.6min\n",
      "[Parallel(n_jobs=-1)]: Done 280 tasks      | elapsed: 16.7min\n",
      "[Parallel(n_jobs=-1)]: Done 504 tasks      | elapsed: 30.6min\n",
      "[Parallel(n_jobs=-1)]: Done 735 out of 735 | elapsed: 45.1min finished\n"
     ]
    },
    {
     "name": "stdout",
     "output_type": "stream",
     "text": [
      "R2 in test set is 0.5385165417201896,R2 in training set is 0.8934060127522416, mean squared error in test set is 1338.386247519716, mean squared error in training set is 309.68860091569326\n"
     ]
    },
    {
     "data": {
      "image/png": "[encoded data removed]",
      "text/plain": [
       "<Figure size 432x288 with 1 Axes>"
      ]
     },
     "metadata": {
      "needs_background": "light"
     },
     "output_type": "display_data"
    },
    {
     "name": "stdout",
     "output_type": "stream",
     "text": [
      "The best model parameters are: {'memory': None, 'steps': [('scale', StandardScaler(copy=True, with_mean=True, with_std=True)), ('pca', PCA(copy=True, iterated_power='auto', n_components=25, random_state=None,\n",
      "    svd_solver='auto', tol=0.0, whiten=False)), ('clf', RandomForestRegressor(bootstrap=True, criterion='mse', max_depth=17,\n",
      "                      max_features=13, max_leaf_nodes=None,\n",
      "                      min_impurity_decrease=0.0, min_impurity_split=None,\n",
      "                      min_samples_leaf=1, min_samples_split=2,\n",
      "                      min_weight_fraction_leaf=0.0, n_estimators=370,\n",
      "                      n_jobs=None, oob_score=False, random_state=None,\n",
      "                      verbose=0, warm_start=False))], 'verbose': False, 'scale': StandardScaler(copy=True, with_mean=True, with_std=True), 'pca': PCA(copy=True, iterated_power='auto', n_components=25, random_state=None,\n",
      "    svd_solver='auto', tol=0.0, whiten=False), 'clf': RandomForestRegressor(bootstrap=True, criterion='mse', max_depth=17,\n",
      "                      max_features=13, max_leaf_nodes=None,\n",
      "                      min_impurity_decrease=0.0, min_impurity_split=None,\n",
      "                      min_samples_leaf=1, min_samples_split=2,\n",
      "                      min_weight_fraction_leaf=0.0, n_estimators=370,\n",
      "                      n_jobs=None, oob_score=False, random_state=None,\n",
      "                      verbose=0, warm_start=False), 'scale__copy': True, 'scale__with_mean': True, 'scale__with_std': True, 'pca__copy': True, 'pca__iterated_power': 'auto', 'pca__n_components': 25, 'pca__random_state': None, 'pca__svd_solver': 'auto', 'pca__tol': 0.0, 'pca__whiten': False, 'clf__bootstrap': True, 'clf__criterion': 'mse', 'clf__max_depth': 17, 'clf__max_features': 13, 'clf__max_leaf_nodes': None, 'clf__min_impurity_decrease': 0.0, 'clf__min_impurity_split': None, 'clf__min_samples_leaf': 1, 'clf__min_samples_split': 2, 'clf__min_weight_fraction_leaf': 0.0, 'clf__n_estimators': 370, 'clf__n_jobs': None, 'clf__oob_score': False, 'clf__random_state': None, 'clf__verbose': 0, 'clf__warm_start': False}\n",
      "The mean squared error of the best model is: -1354.5553291256806\n"
     ]
    }
   ],
   "source": [
    "main_rf_grid_search(n_features=25,max_features_up=20,max_features_low=13,max_depth_up=19,max_depth_low=16,n_estimators_up=420,n_estimators_low=350,test_size=0.2,random_state=70)"
   ]
  },
  {
   "cell_type": "markdown",
   "metadata": {},
   "source": [
    "**Conclusion**\n",
    "\n",
    "**The question answered: How can we build a model to predict the price?**\n",
    "\n",
    "In conclusion, we definitely didn't get a perfect result. But the result of linear regression is already promising. The more complicated random forest can slightly optimize the prediction performance even after parameter tuning. Thus in data science, data cleaning, reasonable feature selection and feature engineering is a key part in the whole process. And in this particular project, a potential future work is to extracting more information from those description messages and do some feature engineering by natural language processing. This is the next step of this program.  "
   ]
  }
 ],
 "metadata": {
  "kernelspec": {
   "display_name": "Python 3",
   "language": "python",
   "name": "python3"
  },
  "language_info": {
   "codemirror_mode": {
    "name": "ipython",
    "version": 3
   },
   "file_extension": ".py",
   "mimetype": "text/x-python",
   "name": "python",
   "nbconvert_exporter": "python",
   "pygments_lexer": "ipython3",
   "version": "3.6.6"
  }
 },
 "nbformat": 4,
 "nbformat_minor": 1
}
